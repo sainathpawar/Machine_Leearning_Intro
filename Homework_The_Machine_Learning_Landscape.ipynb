{
 "cells": [
  {
   "cell_type": "markdown",
   "metadata": {
    "id": "MMnBbjaJwvMp"
   },
   "source": [
    "# ***Homework***\n",
    "\n",
    "\n",
    "1. How would you define Machine Learning?\n",
    "\n",
    "   Ref:- https://youtu.be/H3RFhWnNZ7Y\n",
    "\n",
    "\n",
    "    From Question 2 to 8, Ref \n",
    "    https://youtu.be/dBLUd_ahgqw \n",
    "\n",
    "2. Can you name four types of problems where it shines?\n",
    "\n",
    "3. What is a labeled training set?\n",
    "   \n",
    "4. What are the two most common supervised tasks?\n",
    "\n",
    "   Hint: classification, Regression\n",
    "   \n",
    "\n",
    "5. Can you name four common unsupervised tasks?\n",
    "   \n",
    "   Try to relate with Q4 Hint\n",
    "\n",
    "\n",
    "6. What type of Machine Learning algorithm would you use to allow a robot to walk in various unknown terrains?\n",
    "\n",
    "\n",
    "7. What type of algorithm would you use to segment your customers into multiple groups?\n",
    "\n",
    "\n",
    "8. Would you frame the problem of spam detection as a supervised learning problem or an unsupervised learning problem?\n",
    "\n",
    "\n",
    "\n"
   ]
  },
  {
   "cell_type": "markdown",
   "metadata": {
    "id": "18wqrdp45QsL"
   },
   "source": [
    "\n",
    "    From Question 9 to 11,\n",
    "    Ref:- https://youtu.be/RBm2uIAEloM\n",
    "\n",
    "9. What is an online learning system?\n",
    "\n",
    "10. What is out-of-core learning?\n",
    "\n",
    "11. What type of learning algorithm relies on a similarity measure to make predictions?\n",
    "\n",
    "12. What do model-based learning algorithms search for? What is the most common strategy they use to succeed? How do they make predictions?"
   ]
  },
  {
   "cell_type": "markdown",
   "metadata": {
    "id": "DEKwHblG5UbZ"
   },
   "source": [
    "\n",
    "    From Question 13 to 18\n",
    "    Ref https://youtu.be/WjqwuGLSf44\n",
    "\n",
    "13. What is the difference between a model parameter and a learning algorithm’s hyperparameter?\n",
    "\n",
    "14. Can you name four of the main challenges in Machine Learning?\n",
    "\n",
    "15. If your model performs great on the training data but generalizes poorly to new instances, what is happening? Can you name three possible solutions?\n",
    "\n",
    "16. What is a test set and why would you want to use it?\n",
    "\n",
    "17. What is the purpose of a validation set?\n",
    "\n",
    "18. What can go wrong if you tune hyperparameters using the test set?\n",
    " \n"
   ]
  },
  {
   "cell_type": "markdown",
   "metadata": {
    "id": "6hzW8ikF5yda"
   },
   "source": [
    "**19. What is train-dev set , when do you need it & how do you use it?**\n",
    "\n",
    "Ans: \n",
    "- Collect large amount of Training data \n",
    "- But if its not representative of production data then preidction of ML model is not as expetcted\n",
    "- Ex. Mobile App to detect the species of flower (Data Collection via web scraping)\n",
    "- Sol - After training ML model on Training set - evaluate on Train-Dev set so model will not overfit\n",
    "- if its poorly perform on train-dev set then try to regularize model, get more training data , clean up training data etc."
   ]
  },
  {
   "cell_type": "code",
   "execution_count": null,
   "metadata": {
    "id": "G9iaKD7Sfcsc"
   },
   "outputs": [],
   "source": []
  }
 ],
 "metadata": {
  "colab": {
   "collapsed_sections": [],
   "name": "The Machine Learning Landscape.ipynb",
   "provenance": []
  },
  "kernelspec": {
   "display_name": "Python 3",
   "language": "python",
   "name": "python3"
  },
  "language_info": {
   "codemirror_mode": {
    "name": "ipython",
    "version": 3
   },
   "file_extension": ".py",
   "mimetype": "text/x-python",
   "name": "python",
   "nbconvert_exporter": "python",
   "pygments_lexer": "ipython3",
   "version": "3.8.8"
  }
 },
 "nbformat": 4,
 "nbformat_minor": 1
}
